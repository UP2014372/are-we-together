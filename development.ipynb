{
 "cells": [
  {
   "cell_type": "code",
   "execution_count": null,
   "source": [
    "from algorithm import build_dataframe, group_names\n",
    "from parse_data import get_files, parse_files\n",
    "import pandas as pd\n",
    "pd.options.mode.chained_assignment = None  # default='warn'"
   ],
   "outputs": [],
   "metadata": {}
  },
  {
   "cell_type": "markdown",
   "source": [
    "# Initialising the DataFrame\n",
    "For each calendar (`.ics`) you rename them to the person's name and then put them within `people/`\n",
    "\n",
    "`get_files` traverses all the files and generates a list of `Calendar` objects which can then be manipulated further, in this case i have `parse_files` converting all the lectures into dictionaries which is then appended to a list."
   ],
   "metadata": {}
  },
  {
   "cell_type": "code",
   "execution_count": 82,
   "source": [
    "calendars = get_files()\n",
    "people = parse_files(calendars)"
   ],
   "outputs": [],
   "metadata": {}
  },
  {
   "cell_type": "markdown",
   "source": [
    "## Import into Pandas\n",
    "`build_dataframe` converts a list of dictionaries into a DataFrame itself, e.g. \n",
    "```json\n",
    "[{\"name\": \"Connor\", \"age\": 19}, {\"Luce\": \"age\": 19}] -> DataFrame\n",
    "```\n",
    "It takes an optional argument drop, defaulting to \"OL-Drop-In\" to remove all drop-ins as they are available for everyone.\n",
    "\n",
    "\n",
    "After this, some transformations are applied to group duplicate rows by the Name attribute. "
   ],
   "metadata": {}
  },
  {
   "cell_type": "code",
   "execution_count": null,
   "source": [
    "df = build_dataframe(people)\n",
    "df = group_names(df)"
   ],
   "outputs": [],
   "metadata": {}
  },
  {
   "cell_type": "markdown",
   "source": [
    "An example of the structure of the DataFrame"
   ],
   "metadata": {}
  },
  {
   "cell_type": "code",
   "execution_count": 60,
   "source": [
    "df.head()"
   ],
   "outputs": [
    {
     "output_type": "execute_result",
     "data": {
      "text/plain": [
       "       Day     Start       End Week Number                  Building    Room  \\\n",
       "12  Friday  09:00:00  11:00:00          12         Richmond Building    1.03   \n",
       "14  Friday  11:00:00  13:00:00          12  Future Technology Centre  Floor3   \n",
       "13  Friday  15:00:00  17:00:00          12  Future Technology Centre  Floor3   \n",
       "\n",
       "   Unit Ref                                      Unit  Type Group  \\\n",
       "12   M26538  Applied Machine Learning And Data Mining  Work   N/A   \n",
       "14   M21269                       Database Principles  Comp  Gp02   \n",
       "13   M21269                       Database Principles  Comp  Gp04   \n",
       "\n",
       "          Lecturer                    Names  \n",
       "12  Mohasseb, Alaa  connor azamat jack aden  \n",
       "14  Nakkas,Haythem                jack aden  \n",
       "13  Nakkas,Haythem                   azamat  "
      ],
      "text/html": [
       "<div>\n",
       "<style scoped>\n",
       "    .dataframe tbody tr th:only-of-type {\n",
       "        vertical-align: middle;\n",
       "    }\n",
       "\n",
       "    .dataframe tbody tr th {\n",
       "        vertical-align: top;\n",
       "    }\n",
       "\n",
       "    .dataframe thead th {\n",
       "        text-align: right;\n",
       "    }\n",
       "</style>\n",
       "<table border=\"1\" class=\"dataframe\">\n",
       "  <thead>\n",
       "    <tr style=\"text-align: right;\">\n",
       "      <th></th>\n",
       "      <th>Day</th>\n",
       "      <th>Start</th>\n",
       "      <th>End</th>\n",
       "      <th>Week Number</th>\n",
       "      <th>Building</th>\n",
       "      <th>Room</th>\n",
       "      <th>Unit Ref</th>\n",
       "      <th>Unit</th>\n",
       "      <th>Type</th>\n",
       "      <th>Group</th>\n",
       "      <th>Lecturer</th>\n",
       "      <th>Names</th>\n",
       "    </tr>\n",
       "  </thead>\n",
       "  <tbody>\n",
       "    <tr>\n",
       "      <th>12</th>\n",
       "      <td>Friday</td>\n",
       "      <td>09:00:00</td>\n",
       "      <td>11:00:00</td>\n",
       "      <td>12</td>\n",
       "      <td>Richmond Building</td>\n",
       "      <td>1.03</td>\n",
       "      <td>M26538</td>\n",
       "      <td>Applied Machine Learning And Data Mining</td>\n",
       "      <td>Work</td>\n",
       "      <td>N/A</td>\n",
       "      <td>Mohasseb, Alaa</td>\n",
       "      <td>connor azamat jack aden</td>\n",
       "    </tr>\n",
       "    <tr>\n",
       "      <th>14</th>\n",
       "      <td>Friday</td>\n",
       "      <td>11:00:00</td>\n",
       "      <td>13:00:00</td>\n",
       "      <td>12</td>\n",
       "      <td>Future Technology Centre</td>\n",
       "      <td>Floor3</td>\n",
       "      <td>M21269</td>\n",
       "      <td>Database Principles</td>\n",
       "      <td>Comp</td>\n",
       "      <td>Gp02</td>\n",
       "      <td>Nakkas,Haythem</td>\n",
       "      <td>jack aden</td>\n",
       "    </tr>\n",
       "    <tr>\n",
       "      <th>13</th>\n",
       "      <td>Friday</td>\n",
       "      <td>15:00:00</td>\n",
       "      <td>17:00:00</td>\n",
       "      <td>12</td>\n",
       "      <td>Future Technology Centre</td>\n",
       "      <td>Floor3</td>\n",
       "      <td>M21269</td>\n",
       "      <td>Database Principles</td>\n",
       "      <td>Comp</td>\n",
       "      <td>Gp04</td>\n",
       "      <td>Nakkas,Haythem</td>\n",
       "      <td>azamat</td>\n",
       "    </tr>\n",
       "  </tbody>\n",
       "</table>\n",
       "</div>"
      ]
     },
     "metadata": {},
     "execution_count": 60
    }
   ],
   "metadata": {}
  }
 ],
 "metadata": {
  "orig_nbformat": 4,
  "language_info": {
   "name": "python",
   "version": "3.8.10",
   "mimetype": "text/x-python",
   "codemirror_mode": {
    "name": "ipython",
    "version": 3
   },
   "pygments_lexer": "ipython3",
   "nbconvert_exporter": "python",
   "file_extension": ".py"
  },
  "kernelspec": {
   "name": "python3",
   "display_name": "Python 3.8.10 64-bit"
  },
  "interpreter": {
   "hash": "31f2aee4e71d21fbe5cf8b01ff0e069b9275f58929596ceb00d14d90e3e16cd6"
  }
 },
 "nbformat": 4,
 "nbformat_minor": 2
}